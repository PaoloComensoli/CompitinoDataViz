{
  "cells": [
    {
      "cell_type": "markdown",
      "metadata": {
        "colab_type": "text",
        "id": "view-in-github"
      },
      "source": [
        "<a href=\"https://colab.research.google.com/github/PaoloComensoli/CompitinoDataViz/blob/main/second_visualization.ipynb\" target=\"_parent\"><img src=\"https://colab.research.google.com/assets/colab-badge.svg\" alt=\"Open In Colab\"/></a>"
      ]
    },
    {
      "cell_type": "code",
      "execution_count": 2,
      "metadata": {
        "id": "DF6gUAZnE_KN"
      },
      "outputs": [],
      "source": [
        "#setup libraries\n",
        "import pandas as pd\n",
        "from matplotlib import pyplot as plt\n",
        "import plotly.graph_objects as go"
      ]
    },
    {
      "cell_type": "code",
      "execution_count": 3,
      "metadata": {
        "id": "4-nCQj19Epwc"
      },
      "outputs": [],
      "source": [
        "#Import dataset\n",
        "proms = pd.read_csv('https://raw.githubusercontent.com/PaoloComensoli/CompitinoDataViz/main/compitino_dataviz_2021_2022.csv')"
      ]
    },
    {
      "cell_type": "code",
      "execution_count": 4,
      "metadata": {
        "colab": {
          "base_uri": "https://localhost:8080/"
        },
        "id": "nYlXDjTMFBu5",
        "outputId": "c188e97c-1d0c-40ef-b8ea-c509fe55b676"
      },
      "outputs": [
        {
          "name": "stdout",
          "output_type": "stream",
          "text": [
            "Index(['nome_modulistica', 'score_preop', 'score_postop', 'condizioni_meteo',\n",
            "       'sesso', 'anni_ricovero', 'temperatura_media', 'umidita_media',\n",
            "       'HI > 27', 'natural_light'],\n",
            "      dtype='object')\n"
          ]
        }
      ],
      "source": [
        "print(proms.columns)"
      ]
    },
    {
      "cell_type": "code",
      "execution_count": 5,
      "metadata": {
        "id": "tsEsAYKJFSDP"
      },
      "outputs": [],
      "source": [
        "decades = []\n",
        "for annoRicovero in proms['anni_ricovero']:\n",
        "  decades.append(int(annoRicovero / 10))"
      ]
    },
    {
      "cell_type": "code",
      "execution_count": 6,
      "metadata": {
        "id": "g5HDOWLmag9z"
      },
      "outputs": [],
      "source": [
        "modulistica = []\n",
        "for mod in proms['nome_modulistica']:\n",
        "  if mod == 'SF12 PhysicalScore':\n",
        "    modulistica.append(10)\n",
        "  else:\n",
        "    modulistica.append(11)\n",
        "proms['modulistica_value'] = modulistica"
      ]
    },
    {
      "cell_type": "code",
      "execution_count": 7,
      "metadata": {
        "id": "mO48kYB8GC7E"
      },
      "outputs": [],
      "source": [
        "proms['decade'] = decades"
      ]
    },
    {
      "cell_type": "code",
      "execution_count": 8,
      "metadata": {
        "id": "ERjDTbgiG3MV"
      },
      "outputs": [],
      "source": [
        "proms = proms.sort_values(by=['decade'])"
      ]
    },
    {
      "cell_type": "code",
      "execution_count": 9,
      "metadata": {
        "id": "29iA3xHWHIQf"
      },
      "outputs": [],
      "source": [
        "score_gain = proms['score_postop'] - proms['score_preop']\n",
        "proms['score_gain'] = score_gain"
      ]
    },
    {
      "cell_type": "code",
      "execution_count": 10,
      "metadata": {
        "id": "-7nLcLd_HsVm"
      },
      "outputs": [],
      "source": [
        "score_gain_category = []\n",
        "score_gain_category_index = []\n",
        "for delta in proms['score_gain']:\n",
        "  if delta > 0:\n",
        "    score_gain_category.append('Increase')\n",
        "    score_gain_category_index.append(27)\n",
        "  elif delta == 0:\n",
        "    score_gain_category.append('Same')\n",
        "    score_gain_category_index.append(28)\n",
        "  else:\n",
        "    score_gain_category.append('Decrease')\n",
        "    score_gain_category_index.append(29)\n",
        "proms['score_gain_category'] = score_gain_category\n",
        "proms['score_gain_category_index'] = score_gain_category_index"
      ]
    },
    {
      "cell_type": "code",
      "execution_count": 11,
      "metadata": {
        "colab": {
          "base_uri": "https://localhost:8080/",
          "height": 206
        },
        "id": "Zp5P5n5uIH4-",
        "outputId": "0bcc6462-20fd-450b-a5aa-7c5304f59e3e"
      },
      "outputs": [
        {
          "data": {
            "text/html": [
              "<div>\n",
              "<style scoped>\n",
              "    .dataframe tbody tr th:only-of-type {\n",
              "        vertical-align: middle;\n",
              "    }\n",
              "\n",
              "    .dataframe tbody tr th {\n",
              "        vertical-align: top;\n",
              "    }\n",
              "\n",
              "    .dataframe thead th {\n",
              "        text-align: right;\n",
              "    }\n",
              "</style>\n",
              "<table border=\"1\" class=\"dataframe\">\n",
              "  <thead>\n",
              "    <tr style=\"text-align: right;\">\n",
              "      <th></th>\n",
              "      <th>nome_modulistica</th>\n",
              "      <th>score_preop</th>\n",
              "      <th>score_postop</th>\n",
              "      <th>condizioni_meteo</th>\n",
              "      <th>sesso</th>\n",
              "      <th>anni_ricovero</th>\n",
              "      <th>temperatura_media</th>\n",
              "      <th>umidita_media</th>\n",
              "      <th>HI &gt; 27</th>\n",
              "      <th>natural_light</th>\n",
              "      <th>modulistica_value</th>\n",
              "      <th>decade</th>\n",
              "      <th>score_gain</th>\n",
              "      <th>score_gain_category</th>\n",
              "      <th>score_gain_category_index</th>\n",
              "    </tr>\n",
              "  </thead>\n",
              "  <tbody>\n",
              "    <tr>\n",
              "      <th>24</th>\n",
              "      <td>SF12 PhysicalScore</td>\n",
              "      <td>19.86</td>\n",
              "      <td>36.86</td>\n",
              "      <td>nebbia al mattino</td>\n",
              "      <td>F</td>\n",
              "      <td>24</td>\n",
              "      <td>5.0</td>\n",
              "      <td>89.0</td>\n",
              "      <td>False</td>\n",
              "      <td>True</td>\n",
              "      <td>10</td>\n",
              "      <td>2</td>\n",
              "      <td>17.0</td>\n",
              "      <td>Increase</td>\n",
              "      <td>27</td>\n",
              "    </tr>\n",
              "    <tr>\n",
              "      <th>25</th>\n",
              "      <td>SF12 MentalScore</td>\n",
              "      <td>42.01</td>\n",
              "      <td>55.31</td>\n",
              "      <td>nebbia al mattino</td>\n",
              "      <td>F</td>\n",
              "      <td>24</td>\n",
              "      <td>5.0</td>\n",
              "      <td>89.0</td>\n",
              "      <td>False</td>\n",
              "      <td>True</td>\n",
              "      <td>11</td>\n",
              "      <td>2</td>\n",
              "      <td>13.3</td>\n",
              "      <td>Increase</td>\n",
              "      <td>27</td>\n",
              "    </tr>\n",
              "    <tr>\n",
              "      <th>765</th>\n",
              "      <td>SF12 MentalScore</td>\n",
              "      <td>42.60</td>\n",
              "      <td>29.30</td>\n",
              "      <td>poco nuvoloso</td>\n",
              "      <td>F</td>\n",
              "      <td>38</td>\n",
              "      <td>15.0</td>\n",
              "      <td>59.0</td>\n",
              "      <td>False</td>\n",
              "      <td>True</td>\n",
              "      <td>11</td>\n",
              "      <td>3</td>\n",
              "      <td>-13.3</td>\n",
              "      <td>Decrease</td>\n",
              "      <td>29</td>\n",
              "    </tr>\n",
              "    <tr>\n",
              "      <th>764</th>\n",
              "      <td>SF12 PhysicalScore</td>\n",
              "      <td>29.95</td>\n",
              "      <td>38.85</td>\n",
              "      <td>poco nuvoloso</td>\n",
              "      <td>F</td>\n",
              "      <td>38</td>\n",
              "      <td>15.0</td>\n",
              "      <td>59.0</td>\n",
              "      <td>False</td>\n",
              "      <td>True</td>\n",
              "      <td>10</td>\n",
              "      <td>3</td>\n",
              "      <td>8.9</td>\n",
              "      <td>Increase</td>\n",
              "      <td>27</td>\n",
              "    </tr>\n",
              "    <tr>\n",
              "      <th>348</th>\n",
              "      <td>SF12 PhysicalScore</td>\n",
              "      <td>36.48</td>\n",
              "      <td>54.58</td>\n",
              "      <td>pioggia debole</td>\n",
              "      <td>M</td>\n",
              "      <td>38</td>\n",
              "      <td>19.0</td>\n",
              "      <td>86.0</td>\n",
              "      <td>False</td>\n",
              "      <td>True</td>\n",
              "      <td>10</td>\n",
              "      <td>3</td>\n",
              "      <td>18.1</td>\n",
              "      <td>Increase</td>\n",
              "      <td>27</td>\n",
              "    </tr>\n",
              "  </tbody>\n",
              "</table>\n",
              "</div>"
            ],
            "text/plain": [
              "       nome_modulistica  score_preop  score_postop   condizioni_meteo sesso  \\\n",
              "24   SF12 PhysicalScore        19.86         36.86  nebbia al mattino     F   \n",
              "25     SF12 MentalScore        42.01         55.31  nebbia al mattino     F   \n",
              "765    SF12 MentalScore        42.60         29.30      poco nuvoloso     F   \n",
              "764  SF12 PhysicalScore        29.95         38.85      poco nuvoloso     F   \n",
              "348  SF12 PhysicalScore        36.48         54.58     pioggia debole     M   \n",
              "\n",
              "     anni_ricovero  temperatura_media  umidita_media  HI > 27  natural_light  \\\n",
              "24              24                5.0           89.0    False           True   \n",
              "25              24                5.0           89.0    False           True   \n",
              "765             38               15.0           59.0    False           True   \n",
              "764             38               15.0           59.0    False           True   \n",
              "348             38               19.0           86.0    False           True   \n",
              "\n",
              "     modulistica_value  decade  score_gain score_gain_category  \\\n",
              "24                  10       2        17.0            Increase   \n",
              "25                  11       2        13.3            Increase   \n",
              "765                 11       3       -13.3            Decrease   \n",
              "764                 10       3         8.9            Increase   \n",
              "348                 10       3        18.1            Increase   \n",
              "\n",
              "     score_gain_category_index  \n",
              "24                          27  \n",
              "25                          27  \n",
              "765                         29  \n",
              "764                         27  \n",
              "348                         27  "
            ]
          },
          "execution_count": 11,
          "metadata": {},
          "output_type": "execute_result"
        }
      ],
      "source": [
        "proms[0:5]"
      ]
    },
    {
      "cell_type": "code",
      "execution_count": 12,
      "metadata": {
        "colab": {
          "base_uri": "https://localhost:8080/"
        },
        "id": "AI4qM8KTI9pR",
        "outputId": "029d8b00-1e92-4843-954d-2f935db3b528"
      },
      "outputs": [
        {
          "name": "stdout",
          "output_type": "stream",
          "text": [
            "24                     nebbia al mattino\n",
            "765                        poco nuvoloso\n",
            "348                       pioggia debole\n",
            "266                  pioggia e schiarite\n",
            "1284                         nubi sparse\n",
            "1238                              sereno\n",
            "845                         sole e caldo\n",
            "368                temporale e schiarite\n",
            "1270                             pioggia\n",
            "1094                    neve e schiarite\n",
            "1184                             coperto\n",
            "232                                 neve\n",
            "275                          neve debole\n",
            "595                               nebbia\n",
            "504     pioggia mista a neve e schiarite\n",
            "Name: condizioni_meteo, dtype: object\n"
          ]
        }
      ],
      "source": [
        "print(proms['condizioni_meteo'].drop_duplicates())"
      ]
    },
    {
      "cell_type": "code",
      "execution_count": 13,
      "metadata": {
        "id": "T3IvSWzkbvxW"
      },
      "outputs": [],
      "source": [
        "conditions_value = []\n",
        "for cond in proms['condizioni_meteo']:\n",
        "  if cond == 'nebbia al mattino':\n",
        "    conditions_value.append(12)\n",
        "  elif cond == 'poco nuvoloso':\n",
        "    conditions_value.append(13)\n",
        "  elif cond == 'pioggia debole':\n",
        "    conditions_value.append(14)\n",
        "  elif cond == 'pioggia e schiarite':\n",
        "    conditions_value.append(15)\n",
        "  elif cond == 'nubi sparse':\n",
        "    conditions_value.append(16)\n",
        "  elif cond == 'sereno':\n",
        "    conditions_value.append(17)\n",
        "  elif cond == 'sole e caldo':\n",
        "    conditions_value.append(18)\n",
        "  elif cond == 'temporale e schiarite':\n",
        "    conditions_value.append(19)\n",
        "  elif cond == 'pioggia':\n",
        "    conditions_value.append(20)\n",
        "  elif cond == 'neve e schiarite':\n",
        "    conditions_value.append(21)\n",
        "  elif cond == 'coperto':\n",
        "    conditions_value.append(22)\n",
        "  elif cond == 'neve':\n",
        "    conditions_value.append(23)\n",
        "  elif cond == 'neve debole':\n",
        "    conditions_value.append(24)\n",
        "  elif cond == 'nebbia':\n",
        "    conditions_value.append(25)\n",
        "  elif cond == 'pioggia mista a neve e schiarite':\n",
        "    conditions_value.append(26)\n",
        "proms['conditions_value'] = conditions_value"
      ]
    },
    {
      "cell_type": "code",
      "execution_count": 15,
      "metadata": {
        "colab": {
          "base_uri": "https://localhost:8080/"
        },
        "id": "BgZsFmX5ggBM",
        "outputId": "229dde35-3397-409e-86b0-ba39d20d84c3"
      },
      "outputs": [
        {
          "name": "stdout",
          "output_type": "stream",
          "text": [
            "['', '', '2', '3', '4', '5', '6', '7', '8', '9']\n"
          ]
        }
      ],
      "source": [
        "#creazione label\n",
        "labels = ['','']\n",
        "for i in proms['decade'].drop_duplicates():\n",
        "  labels.append(f'{i}')\n",
        "\n",
        "#for i in proms['nome_modulistica'].drop_duplicates():\n",
        " # labels.append(i)\n",
        "\n",
        "print(labels)"
      ]
    },
    {
      "cell_type": "code",
      "execution_count": 16,
      "metadata": {
        "colab": {
          "base_uri": "https://localhost:8080/"
        },
        "id": "qL-11Gv2itPJ",
        "outputId": "838a6439-175c-407d-c65a-4131b89db45f"
      },
      "outputs": [
        {
          "name": "stdout",
          "output_type": "stream",
          "text": [
            "24      2\n",
            "765     3\n",
            "1284    4\n",
            "1421    5\n",
            "1091    6\n",
            "1681    7\n",
            "1516    8\n",
            "1723    9\n",
            "Name: decade, dtype: int64\n",
            "2110\n"
          ]
        }
      ],
      "source": [
        "print(proms['decade'].drop_duplicates())\n",
        "print(len(proms['decade']))"
      ]
    },
    {
      "cell_type": "code",
      "execution_count": 17,
      "metadata": {
        "colab": {
          "base_uri": "https://localhost:8080/"
        },
        "id": "6q2r7WgLmlGG",
        "outputId": "bfd4ddf7-f9bb-406e-b3e1-8f415e8107e7"
      },
      "outputs": [
        {
          "name": "stdout",
          "output_type": "stream",
          "text": [
            "decade\n",
            "2      2\n",
            "3     24\n",
            "4     90\n",
            "5    326\n",
            "6    628\n",
            "7    740\n",
            "8    290\n",
            "9     10\n",
            "dtype: int64\n"
          ]
        }
      ],
      "source": [
        "values = proms.groupby(['decade']).size().tolist()\n",
        "print(proms.groupby(['decade']).size())\n",
        "values2 = [1,1,12,12,45,45,163,163,314,314,370,370,145,145,5,5]"
      ]
    },
    {
      "cell_type": "code",
      "execution_count": 18,
      "metadata": {
        "colab": {
          "base_uri": "https://localhost:8080/"
        },
        "id": "WmCyNQIvTeKX",
        "outputId": "6975aea4-26b4-493d-9987-7c247f00b745"
      },
      "outputs": [
        {
          "name": "stdout",
          "output_type": "stream",
          "text": [
            "[0, 2, 14, 10, 60, 30, 162, 164, 264, 364, 244, 496, 90, 200, 6, 4]\n"
          ]
        }
      ],
      "source": [
        "sessi_values = []\n",
        "for i in range(2,10,1):\n",
        "  tmp = proms[proms['decade'] == i]\n",
        "  maschi = tmp[tmp['sesso'] == 'M']\n",
        "  femmine = tmp[tmp['sesso'] == 'F']\n",
        "  sessi_values.append(len(maschi))\n",
        "  sessi_values.append(len(femmine))\n",
        "print(sessi_values)"
      ]
    },
    {
      "cell_type": "code",
      "execution_count": 19,
      "metadata": {
        "colab": {
          "base_uri": "https://localhost:8080/"
        },
        "id": "vl_5wfvmV5SA",
        "outputId": "e20e076f-478c-460b-8a0c-90d2da1ddaae"
      },
      "outputs": [
        {
          "name": "stdout",
          "output_type": "stream",
          "text": [
            "['nebbia al mattino', 'poco nuvoloso', 'pioggia debole', 'pioggia e schiarite', 'nubi sparse', 'sereno', 'sole e caldo', 'temporale e schiarite', 'pioggia', 'neve e schiarite', 'coperto', 'neve', 'neve debole', 'nebbia', 'pioggia mista a neve e schiarite']\n",
            "[100, 202, 270, 398, 38, 56, 144, 206, 30, 40, 188, 246, 28, 70, 12, 24, 8, 6, 2, 6, 6, 4, 4, 4, 0, 2, 8, 6, 2, 0]\n"
          ]
        }
      ],
      "source": [
        "# passaggio sesso -> condizioni meteo\n",
        "\n",
        "sourceR2 = [10,11] * len(proms['condizioni_meteo'].drop_duplicates())\n",
        "targetR2 = [12,12,13,13,14,14,15,15,16,16,17,17,18,18,19,19,20,20,21,21,22,22,23,23,24,24,25,25,26,26]\n",
        "conditions_value_r2 = []\n",
        "\n",
        "elenco_condizioni = proms['condizioni_meteo'].drop_duplicates().tolist()\n",
        "print(elenco_condizioni)\n",
        "\n",
        "for condition in elenco_condizioni:\n",
        "  tmp1 = proms[proms['sesso'] == 'M']\n",
        "  conditions_value_r2.append(len(tmp1[tmp1['condizioni_meteo'] == condition]))\n",
        "  tmp1 = proms[proms['sesso'] == 'F']\n",
        "  conditions_value_r2.append(len(tmp1[tmp1['condizioni_meteo'] == condition]))\n",
        "print(conditions_value_r2)"
      ]
    },
    {
      "cell_type": "code",
      "execution_count": 20,
      "metadata": {
        "colab": {
          "base_uri": "https://localhost:8080/"
        },
        "id": "B9fnucoGahxZ",
        "outputId": "e012976b-60f9-4a6b-926b-9c1ed55c11f1"
      },
      "outputs": [
        {
          "name": "stdout",
          "output_type": "stream",
          "text": [
            "[205, 97, 453, 213, 60, 34, 242, 106, 54, 16, 302, 129, 67, 31, 25, 11, 8, 5, 7, 1, 6, 4, 6, 2, 2, 0, 7, 7, 1, 1]\n"
          ]
        }
      ],
      "source": [
        "# passaggio condizione meteo -> risultato\n",
        "sourceR3 = targetR2\n",
        "targetR3 = [27,28] * len(proms['condizioni_meteo'].drop_duplicates())\n",
        "conditions_value_r3 = []\n",
        "for condition in elenco_condizioni:\n",
        "  tmp1 = proms[proms['condizioni_meteo'] == condition]\n",
        "  conditions_value_r3.append(len(tmp1[tmp1['score_gain_category'] == 'Increase']))\n",
        "  conditions_value_r3.append(len(tmp1[tmp1['score_gain_category'] == 'Decrease']))\n",
        "print(conditions_value_r3)"
      ]
    },
    {
      "cell_type": "code",
      "execution_count": 21,
      "metadata": {
        "id": "OHBblnSLgIXm"
      },
      "outputs": [],
      "source": [
        "def pippo(selected):\n",
        "  print(selected)"
      ]
    },
    {
      "cell_type": "code",
      "execution_count": 22,
      "metadata": {
        "colab": {
          "base_uri": "https://localhost:8080/",
          "height": 615
        },
        "id": "NTs7Q9PLfqfl",
        "outputId": "a9f54d92-9874-43d1-e589-7434e50253de"
      },
      "outputs": [
        {
          "name": "stdout",
          "output_type": "stream",
          "text": [
            "[2, 2, 3, 3, 4, 4, 5, 5, 6, 6, 7, 7, 8, 8, 9, 9]\n",
            "[2, 24, 90, 326, 628, 740, 290, 10]\n",
            "Physical\n",
            "[10, 11, 10, 11, 10, 11, 10, 11, 10, 11, 10, 11, 10, 11, 10, 11]\n"
          ]
        },
        {
          "data": {
            "application/vnd.plotly.v1+json": {
              "config": {
                "plotlyServerURL": "https://plot.ly"
              },
              "data": [
                {
                  "link": {
                    "source": [
                      2,
                      2,
                      3,
                      3,
                      4,
                      4,
                      5,
                      5,
                      6,
                      6,
                      7,
                      7,
                      8,
                      8,
                      9,
                      9,
                      10,
                      11,
                      10,
                      11,
                      10,
                      11,
                      10,
                      11,
                      10,
                      11,
                      10,
                      11,
                      10,
                      11,
                      10,
                      11,
                      10,
                      11,
                      10,
                      11,
                      10,
                      11,
                      10,
                      11,
                      10,
                      11,
                      10,
                      11,
                      10,
                      11,
                      12,
                      12,
                      13,
                      13,
                      14,
                      14,
                      15,
                      15,
                      16,
                      16,
                      17,
                      17,
                      18,
                      18,
                      19,
                      19,
                      20,
                      20,
                      21,
                      21,
                      22,
                      22,
                      23,
                      23,
                      24,
                      24,
                      25,
                      25,
                      26,
                      26
                    ],
                    "target": [
                      10,
                      11,
                      10,
                      11,
                      10,
                      11,
                      10,
                      11,
                      10,
                      11,
                      10,
                      11,
                      10,
                      11,
                      10,
                      11,
                      12,
                      12,
                      13,
                      13,
                      14,
                      14,
                      15,
                      15,
                      16,
                      16,
                      17,
                      17,
                      18,
                      18,
                      19,
                      19,
                      20,
                      20,
                      21,
                      21,
                      22,
                      22,
                      23,
                      23,
                      24,
                      24,
                      25,
                      25,
                      26,
                      26,
                      27,
                      28,
                      27,
                      28,
                      27,
                      28,
                      27,
                      28,
                      27,
                      28,
                      27,
                      28,
                      27,
                      28,
                      27,
                      28,
                      27,
                      28,
                      27,
                      28,
                      27,
                      28,
                      27,
                      28,
                      27,
                      28,
                      27,
                      28,
                      27,
                      28
                    ],
                    "value": [
                      0,
                      2,
                      14,
                      10,
                      60,
                      30,
                      162,
                      164,
                      264,
                      364,
                      244,
                      496,
                      90,
                      200,
                      6,
                      4,
                      100,
                      202,
                      270,
                      398,
                      38,
                      56,
                      144,
                      206,
                      30,
                      40,
                      188,
                      246,
                      28,
                      70,
                      12,
                      24,
                      8,
                      6,
                      2,
                      6,
                      6,
                      4,
                      4,
                      4,
                      0,
                      2,
                      8,
                      6,
                      2,
                      0,
                      205,
                      97,
                      453,
                      213,
                      60,
                      34,
                      242,
                      106,
                      54,
                      16,
                      302,
                      129,
                      67,
                      31,
                      25,
                      11,
                      8,
                      5,
                      7,
                      1,
                      6,
                      4,
                      6,
                      2,
                      2,
                      0,
                      7,
                      7,
                      1,
                      1
                    ]
                  },
                  "node": {
                    "color": "blue",
                    "label": [
                      "0-9",
                      "10-19",
                      "20-29",
                      "30-39",
                      "40-49",
                      "50-59",
                      "60-69",
                      "70-79",
                      "80-89",
                      "90-99",
                      "Maschio",
                      "Femmina",
                      "nebbia al mattino",
                      "poco nuvoloso",
                      "pioggia debole",
                      "pioggia e schiarite",
                      "nubi sparse",
                      "sereno",
                      "sole e caldo",
                      "temporale e schiarite",
                      "pioggia",
                      "neve e schiarite",
                      "coperto",
                      "neve",
                      "neve debole",
                      "nebbia",
                      "pioggia mista a neve e schiarite",
                      "Miglioramento",
                      "Peggioramento"
                    ],
                    "line": {
                      "color": "black",
                      "width": 0.5
                    },
                    "pad": 15,
                    "thickness": 20
                  },
                  "type": "sankey"
                }
              ],
              "layout": {
                "font": {
                  "size": 10
                },
                "template": {
                  "data": {
                    "bar": [
                      {
                        "error_x": {
                          "color": "#2a3f5f"
                        },
                        "error_y": {
                          "color": "#2a3f5f"
                        },
                        "marker": {
                          "line": {
                            "color": "#E5ECF6",
                            "width": 0.5
                          },
                          "pattern": {
                            "fillmode": "overlay",
                            "size": 10,
                            "solidity": 0.2
                          }
                        },
                        "type": "bar"
                      }
                    ],
                    "barpolar": [
                      {
                        "marker": {
                          "line": {
                            "color": "#E5ECF6",
                            "width": 0.5
                          },
                          "pattern": {
                            "fillmode": "overlay",
                            "size": 10,
                            "solidity": 0.2
                          }
                        },
                        "type": "barpolar"
                      }
                    ],
                    "carpet": [
                      {
                        "aaxis": {
                          "endlinecolor": "#2a3f5f",
                          "gridcolor": "white",
                          "linecolor": "white",
                          "minorgridcolor": "white",
                          "startlinecolor": "#2a3f5f"
                        },
                        "baxis": {
                          "endlinecolor": "#2a3f5f",
                          "gridcolor": "white",
                          "linecolor": "white",
                          "minorgridcolor": "white",
                          "startlinecolor": "#2a3f5f"
                        },
                        "type": "carpet"
                      }
                    ],
                    "choropleth": [
                      {
                        "colorbar": {
                          "outlinewidth": 0,
                          "ticks": ""
                        },
                        "type": "choropleth"
                      }
                    ],
                    "contour": [
                      {
                        "colorbar": {
                          "outlinewidth": 0,
                          "ticks": ""
                        },
                        "colorscale": [
                          [
                            0,
                            "#0d0887"
                          ],
                          [
                            0.1111111111111111,
                            "#46039f"
                          ],
                          [
                            0.2222222222222222,
                            "#7201a8"
                          ],
                          [
                            0.3333333333333333,
                            "#9c179e"
                          ],
                          [
                            0.4444444444444444,
                            "#bd3786"
                          ],
                          [
                            0.5555555555555556,
                            "#d8576b"
                          ],
                          [
                            0.6666666666666666,
                            "#ed7953"
                          ],
                          [
                            0.7777777777777778,
                            "#fb9f3a"
                          ],
                          [
                            0.8888888888888888,
                            "#fdca26"
                          ],
                          [
                            1,
                            "#f0f921"
                          ]
                        ],
                        "type": "contour"
                      }
                    ],
                    "contourcarpet": [
                      {
                        "colorbar": {
                          "outlinewidth": 0,
                          "ticks": ""
                        },
                        "type": "contourcarpet"
                      }
                    ],
                    "heatmap": [
                      {
                        "colorbar": {
                          "outlinewidth": 0,
                          "ticks": ""
                        },
                        "colorscale": [
                          [
                            0,
                            "#0d0887"
                          ],
                          [
                            0.1111111111111111,
                            "#46039f"
                          ],
                          [
                            0.2222222222222222,
                            "#7201a8"
                          ],
                          [
                            0.3333333333333333,
                            "#9c179e"
                          ],
                          [
                            0.4444444444444444,
                            "#bd3786"
                          ],
                          [
                            0.5555555555555556,
                            "#d8576b"
                          ],
                          [
                            0.6666666666666666,
                            "#ed7953"
                          ],
                          [
                            0.7777777777777778,
                            "#fb9f3a"
                          ],
                          [
                            0.8888888888888888,
                            "#fdca26"
                          ],
                          [
                            1,
                            "#f0f921"
                          ]
                        ],
                        "type": "heatmap"
                      }
                    ],
                    "heatmapgl": [
                      {
                        "colorbar": {
                          "outlinewidth": 0,
                          "ticks": ""
                        },
                        "colorscale": [
                          [
                            0,
                            "#0d0887"
                          ],
                          [
                            0.1111111111111111,
                            "#46039f"
                          ],
                          [
                            0.2222222222222222,
                            "#7201a8"
                          ],
                          [
                            0.3333333333333333,
                            "#9c179e"
                          ],
                          [
                            0.4444444444444444,
                            "#bd3786"
                          ],
                          [
                            0.5555555555555556,
                            "#d8576b"
                          ],
                          [
                            0.6666666666666666,
                            "#ed7953"
                          ],
                          [
                            0.7777777777777778,
                            "#fb9f3a"
                          ],
                          [
                            0.8888888888888888,
                            "#fdca26"
                          ],
                          [
                            1,
                            "#f0f921"
                          ]
                        ],
                        "type": "heatmapgl"
                      }
                    ],
                    "histogram": [
                      {
                        "marker": {
                          "pattern": {
                            "fillmode": "overlay",
                            "size": 10,
                            "solidity": 0.2
                          }
                        },
                        "type": "histogram"
                      }
                    ],
                    "histogram2d": [
                      {
                        "colorbar": {
                          "outlinewidth": 0,
                          "ticks": ""
                        },
                        "colorscale": [
                          [
                            0,
                            "#0d0887"
                          ],
                          [
                            0.1111111111111111,
                            "#46039f"
                          ],
                          [
                            0.2222222222222222,
                            "#7201a8"
                          ],
                          [
                            0.3333333333333333,
                            "#9c179e"
                          ],
                          [
                            0.4444444444444444,
                            "#bd3786"
                          ],
                          [
                            0.5555555555555556,
                            "#d8576b"
                          ],
                          [
                            0.6666666666666666,
                            "#ed7953"
                          ],
                          [
                            0.7777777777777778,
                            "#fb9f3a"
                          ],
                          [
                            0.8888888888888888,
                            "#fdca26"
                          ],
                          [
                            1,
                            "#f0f921"
                          ]
                        ],
                        "type": "histogram2d"
                      }
                    ],
                    "histogram2dcontour": [
                      {
                        "colorbar": {
                          "outlinewidth": 0,
                          "ticks": ""
                        },
                        "colorscale": [
                          [
                            0,
                            "#0d0887"
                          ],
                          [
                            0.1111111111111111,
                            "#46039f"
                          ],
                          [
                            0.2222222222222222,
                            "#7201a8"
                          ],
                          [
                            0.3333333333333333,
                            "#9c179e"
                          ],
                          [
                            0.4444444444444444,
                            "#bd3786"
                          ],
                          [
                            0.5555555555555556,
                            "#d8576b"
                          ],
                          [
                            0.6666666666666666,
                            "#ed7953"
                          ],
                          [
                            0.7777777777777778,
                            "#fb9f3a"
                          ],
                          [
                            0.8888888888888888,
                            "#fdca26"
                          ],
                          [
                            1,
                            "#f0f921"
                          ]
                        ],
                        "type": "histogram2dcontour"
                      }
                    ],
                    "mesh3d": [
                      {
                        "colorbar": {
                          "outlinewidth": 0,
                          "ticks": ""
                        },
                        "type": "mesh3d"
                      }
                    ],
                    "parcoords": [
                      {
                        "line": {
                          "colorbar": {
                            "outlinewidth": 0,
                            "ticks": ""
                          }
                        },
                        "type": "parcoords"
                      }
                    ],
                    "pie": [
                      {
                        "automargin": true,
                        "type": "pie"
                      }
                    ],
                    "scatter": [
                      {
                        "marker": {
                          "colorbar": {
                            "outlinewidth": 0,
                            "ticks": ""
                          }
                        },
                        "type": "scatter"
                      }
                    ],
                    "scatter3d": [
                      {
                        "line": {
                          "colorbar": {
                            "outlinewidth": 0,
                            "ticks": ""
                          }
                        },
                        "marker": {
                          "colorbar": {
                            "outlinewidth": 0,
                            "ticks": ""
                          }
                        },
                        "type": "scatter3d"
                      }
                    ],
                    "scattercarpet": [
                      {
                        "marker": {
                          "colorbar": {
                            "outlinewidth": 0,
                            "ticks": ""
                          }
                        },
                        "type": "scattercarpet"
                      }
                    ],
                    "scattergeo": [
                      {
                        "marker": {
                          "colorbar": {
                            "outlinewidth": 0,
                            "ticks": ""
                          }
                        },
                        "type": "scattergeo"
                      }
                    ],
                    "scattergl": [
                      {
                        "marker": {
                          "colorbar": {
                            "outlinewidth": 0,
                            "ticks": ""
                          }
                        },
                        "type": "scattergl"
                      }
                    ],
                    "scattermapbox": [
                      {
                        "marker": {
                          "colorbar": {
                            "outlinewidth": 0,
                            "ticks": ""
                          }
                        },
                        "type": "scattermapbox"
                      }
                    ],
                    "scatterpolar": [
                      {
                        "marker": {
                          "colorbar": {
                            "outlinewidth": 0,
                            "ticks": ""
                          }
                        },
                        "type": "scatterpolar"
                      }
                    ],
                    "scatterpolargl": [
                      {
                        "marker": {
                          "colorbar": {
                            "outlinewidth": 0,
                            "ticks": ""
                          }
                        },
                        "type": "scatterpolargl"
                      }
                    ],
                    "scatterternary": [
                      {
                        "marker": {
                          "colorbar": {
                            "outlinewidth": 0,
                            "ticks": ""
                          }
                        },
                        "type": "scatterternary"
                      }
                    ],
                    "surface": [
                      {
                        "colorbar": {
                          "outlinewidth": 0,
                          "ticks": ""
                        },
                        "colorscale": [
                          [
                            0,
                            "#0d0887"
                          ],
                          [
                            0.1111111111111111,
                            "#46039f"
                          ],
                          [
                            0.2222222222222222,
                            "#7201a8"
                          ],
                          [
                            0.3333333333333333,
                            "#9c179e"
                          ],
                          [
                            0.4444444444444444,
                            "#bd3786"
                          ],
                          [
                            0.5555555555555556,
                            "#d8576b"
                          ],
                          [
                            0.6666666666666666,
                            "#ed7953"
                          ],
                          [
                            0.7777777777777778,
                            "#fb9f3a"
                          ],
                          [
                            0.8888888888888888,
                            "#fdca26"
                          ],
                          [
                            1,
                            "#f0f921"
                          ]
                        ],
                        "type": "surface"
                      }
                    ],
                    "table": [
                      {
                        "cells": {
                          "fill": {
                            "color": "#EBF0F8"
                          },
                          "line": {
                            "color": "white"
                          }
                        },
                        "header": {
                          "fill": {
                            "color": "#C8D4E3"
                          },
                          "line": {
                            "color": "white"
                          }
                        },
                        "type": "table"
                      }
                    ]
                  },
                  "layout": {
                    "annotationdefaults": {
                      "arrowcolor": "#2a3f5f",
                      "arrowhead": 0,
                      "arrowwidth": 1
                    },
                    "autotypenumbers": "strict",
                    "coloraxis": {
                      "colorbar": {
                        "outlinewidth": 0,
                        "ticks": ""
                      }
                    },
                    "colorscale": {
                      "diverging": [
                        [
                          0,
                          "#8e0152"
                        ],
                        [
                          0.1,
                          "#c51b7d"
                        ],
                        [
                          0.2,
                          "#de77ae"
                        ],
                        [
                          0.3,
                          "#f1b6da"
                        ],
                        [
                          0.4,
                          "#fde0ef"
                        ],
                        [
                          0.5,
                          "#f7f7f7"
                        ],
                        [
                          0.6,
                          "#e6f5d0"
                        ],
                        [
                          0.7,
                          "#b8e186"
                        ],
                        [
                          0.8,
                          "#7fbc41"
                        ],
                        [
                          0.9,
                          "#4d9221"
                        ],
                        [
                          1,
                          "#276419"
                        ]
                      ],
                      "sequential": [
                        [
                          0,
                          "#0d0887"
                        ],
                        [
                          0.1111111111111111,
                          "#46039f"
                        ],
                        [
                          0.2222222222222222,
                          "#7201a8"
                        ],
                        [
                          0.3333333333333333,
                          "#9c179e"
                        ],
                        [
                          0.4444444444444444,
                          "#bd3786"
                        ],
                        [
                          0.5555555555555556,
                          "#d8576b"
                        ],
                        [
                          0.6666666666666666,
                          "#ed7953"
                        ],
                        [
                          0.7777777777777778,
                          "#fb9f3a"
                        ],
                        [
                          0.8888888888888888,
                          "#fdca26"
                        ],
                        [
                          1,
                          "#f0f921"
                        ]
                      ],
                      "sequentialminus": [
                        [
                          0,
                          "#0d0887"
                        ],
                        [
                          0.1111111111111111,
                          "#46039f"
                        ],
                        [
                          0.2222222222222222,
                          "#7201a8"
                        ],
                        [
                          0.3333333333333333,
                          "#9c179e"
                        ],
                        [
                          0.4444444444444444,
                          "#bd3786"
                        ],
                        [
                          0.5555555555555556,
                          "#d8576b"
                        ],
                        [
                          0.6666666666666666,
                          "#ed7953"
                        ],
                        [
                          0.7777777777777778,
                          "#fb9f3a"
                        ],
                        [
                          0.8888888888888888,
                          "#fdca26"
                        ],
                        [
                          1,
                          "#f0f921"
                        ]
                      ]
                    },
                    "colorway": [
                      "#636efa",
                      "#EF553B",
                      "#00cc96",
                      "#ab63fa",
                      "#FFA15A",
                      "#19d3f3",
                      "#FF6692",
                      "#B6E880",
                      "#FF97FF",
                      "#FECB52"
                    ],
                    "font": {
                      "color": "#2a3f5f"
                    },
                    "geo": {
                      "bgcolor": "white",
                      "lakecolor": "white",
                      "landcolor": "#E5ECF6",
                      "showlakes": true,
                      "showland": true,
                      "subunitcolor": "white"
                    },
                    "hoverlabel": {
                      "align": "left"
                    },
                    "hovermode": "closest",
                    "mapbox": {
                      "style": "light"
                    },
                    "paper_bgcolor": "white",
                    "plot_bgcolor": "#E5ECF6",
                    "polar": {
                      "angularaxis": {
                        "gridcolor": "white",
                        "linecolor": "white",
                        "ticks": ""
                      },
                      "bgcolor": "#E5ECF6",
                      "radialaxis": {
                        "gridcolor": "white",
                        "linecolor": "white",
                        "ticks": ""
                      }
                    },
                    "scene": {
                      "xaxis": {
                        "backgroundcolor": "#E5ECF6",
                        "gridcolor": "white",
                        "gridwidth": 2,
                        "linecolor": "white",
                        "showbackground": true,
                        "ticks": "",
                        "zerolinecolor": "white"
                      },
                      "yaxis": {
                        "backgroundcolor": "#E5ECF6",
                        "gridcolor": "white",
                        "gridwidth": 2,
                        "linecolor": "white",
                        "showbackground": true,
                        "ticks": "",
                        "zerolinecolor": "white"
                      },
                      "zaxis": {
                        "backgroundcolor": "#E5ECF6",
                        "gridcolor": "white",
                        "gridwidth": 2,
                        "linecolor": "white",
                        "showbackground": true,
                        "ticks": "",
                        "zerolinecolor": "white"
                      }
                    },
                    "shapedefaults": {
                      "line": {
                        "color": "#2a3f5f"
                      }
                    },
                    "ternary": {
                      "aaxis": {
                        "gridcolor": "white",
                        "linecolor": "white",
                        "ticks": ""
                      },
                      "baxis": {
                        "gridcolor": "white",
                        "linecolor": "white",
                        "ticks": ""
                      },
                      "bgcolor": "#E5ECF6",
                      "caxis": {
                        "gridcolor": "white",
                        "linecolor": "white",
                        "ticks": ""
                      }
                    },
                    "title": {
                      "x": 0.05
                    },
                    "xaxis": {
                      "automargin": true,
                      "gridcolor": "white",
                      "linecolor": "white",
                      "ticks": "",
                      "title": {
                        "standoff": 15
                      },
                      "zerolinecolor": "white",
                      "zerolinewidth": 2
                    },
                    "yaxis": {
                      "automargin": true,
                      "gridcolor": "white",
                      "linecolor": "white",
                      "ticks": "",
                      "title": {
                        "standoff": 15
                      },
                      "zerolinecolor": "white",
                      "zerolinewidth": 2
                    }
                  }
                },
                "title": {
                  "text": "Basic Sankey Diagram"
                }
              }
            }
          },
          "metadata": {},
          "output_type": "display_data"
        }
      ],
      "source": [
        "import plotly.graph_objects as go\n",
        "source = [*proms['decade'].drop_duplicates()] * 2\n",
        "source.sort()\n",
        "print(source)\n",
        "print(values)\n",
        "Tipologia = 'Physical' #@param [\"Tutte\", \"Physical\", \"Mental\"]\n",
        "pippo(Tipologia)\n",
        "\n",
        "\n",
        "target = [*proms['modulistica_value'].drop_duplicates()] * len(proms['decade'].drop_duplicates())\n",
        "target2 = [10,11] * len(proms['decade'].drop_duplicates())\n",
        "print(target2)\n",
        "\n",
        "labels = ['0-9','10-19','20-29','30-39','40-49','50-59','60-69','70-79','80-89','90-99','Maschio','Femmina'] + elenco_condizioni + ['Miglioramento', 'Peggioramento']\n",
        "\n",
        "fig = go.Figure(data=[go.Sankey(\n",
        "    node = dict(\n",
        "      pad = 15,\n",
        "      thickness = 20,\n",
        "      label = labels,\n",
        "      line = dict(color = \"black\", width = 0.5),\n",
        "      color = \"blue\"\n",
        "    ),\n",
        "    link = dict(\n",
        "      source = source + sourceR2 + sourceR3,\n",
        "      target = target2 + targetR2 + targetR3,\n",
        "      value = sessi_values + conditions_value_r2 + conditions_value_r3\n",
        "  ))])\n",
        "\n",
        "fig.update_layout(title_text=\"Basic Sankey Diagram\", font_size=10)\n",
        "fig.show()"
      ]
    }
  ],
  "metadata": {
    "colab": {
      "authorship_tag": "ABX9TyMj4R0kr2bmfNnz+l0X3Vnw",
      "collapsed_sections": [],
      "include_colab_link": true,
      "name": "second_visualization.ipynb",
      "provenance": []
    },
    "kernelspec": {
      "display_name": "Python 3",
      "name": "python3"
    },
    "language_info": {
      "codemirror_mode": {
        "name": "ipython",
        "version": 3
      },
      "file_extension": ".py",
      "mimetype": "text/x-python",
      "name": "python",
      "nbconvert_exporter": "python",
      "pygments_lexer": "ipython3",
      "version": "3.9.9"
    }
  },
  "nbformat": 4,
  "nbformat_minor": 0
}
